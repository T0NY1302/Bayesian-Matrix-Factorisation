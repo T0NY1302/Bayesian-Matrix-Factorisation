{
 "cells": [
  {
   "cell_type": "markdown",
   "metadata": {},
   "source": [
    "We will implement a Gibbs sampling algortihm to sample the factors from the conditional posterior distrubtions in the MVGMF algorithm to factorise our matrix. We will call this algortihm Bayesian Gaussian Matrix Factorisation (BGMF) for now."
   ]
  },
  {
   "cell_type": "code",
   "execution_count": 1,
   "metadata": {},
   "outputs": [],
   "source": [
    "import numpy as np\n",
    "import matplotlib.pyplot as plt\n",
    "from scipy.stats import multivariate_normal\n",
    "from scipy.special import logsumexp"
   ]
  },
  {
   "cell_type": "code",
   "execution_count": 2,
   "metadata": {},
   "outputs": [],
   "source": [
    "def calculate_nmse(Y, Y_pred):\n",
    "    numerator = np.linalg.norm(Y - Y_pred, 'fro') ** 2\n",
    "    denominator = np.linalg.norm(Y, 'fro') ** 2\n",
    "    nmse = numerator / denominator\n",
    "    return nmse"
   ]
  },
  {
   "cell_type": "code",
   "execution_count": 3,
   "metadata": {},
   "outputs": [],
   "source": [
    "def matrix_normal_sample(M, U, V):\n",
    "    #return np.random.multivariate_normal(M.ravel(), np.kron(V, U)).reshape(M.shape)\n",
    "    n, p = M.shape\n",
    "\n",
    "    # Generate samples from standard normal distribution\n",
    "    X = np.random.normal(0, 1, size=(n, p))\n",
    "\n",
    "    # Compute Cholesky decomposition of covariance matrices\n",
    "    chol_U = np.linalg.cholesky(U)\n",
    "    chol_V = np.linalg.cholesky(V)\n",
    "\n",
    "    # Sample from matrix normal distribution\n",
    "    Y = M + chol_U @ X @ chol_V.T\n",
    "\n",
    "    return Y"
   ]
  },
  {
   "cell_type": "code",
   "execution_count": 4,
   "metadata": {},
   "outputs": [],
   "source": [
    "def BGMF(Y, k, r, T, sigma_2, burnin = 100, return_running_average = False, return_samples=False):\n",
    "    \"\"\"\n",
    "    Perform Bayesian Gaussian Matrix Factorization (BGMF) using Gibbs sampling.\n",
    "\n",
    "    Parameters:\n",
    "    - Y (numpy.ndarray): The input matrix of shape (m, n) to be factorized.\n",
    "    - k (float): A constant for the variate matrix initialization.\n",
    "    - r (int): The dimensionality of the factorization.\n",
    "    - T (int): The number of Gibbs sampling iterations.\n",
    "    - burnin(int): Specifies burnin iterations.\n",
    "    - return_running_average (boolean): Returns running array average of C and X.\n",
    "    - return_samples (boolean): Returns array of samples of C and X at each iteration.\n",
    "\n",
    "    Returns:\n",
    "    - C (numpy.ndarray): The factor matrix C of shape (m, r).\n",
    "    - X (numpy.ndarray): The factor matrix X of shape (r, n).\n",
    "    \"\"\"\n",
    "    m, n = Y.shape\n",
    "    #Initialise the matrices\n",
    "    V_0 = k * np.eye(r)\n",
    "    W_0 = k * np.eye(r)\n",
    "    C_0 = np.random.normal(0, 1, size=(m, r))\n",
    "    X_0 = np.random.normal(0, 1, size=(r, n))\n",
    "    C_prev = C_0\n",
    "    X_prev = X_0\n",
    "\n",
    "    #Stores running average of C and X after burnin\n",
    "    C_samples = []\n",
    "    X_samples = []\n",
    "    V_samples = []\n",
    "    W_samples = []\n",
    "    C_running_average = []\n",
    "    X_running_average = []\n",
    "    C_average = np.zeros((m, r))\n",
    "    X_average = np.zeros((r, n))\n",
    "\n",
    "    for t in range(T):\n",
    "        \n",
    "        \n",
    "        V = V_0 - V_0 @ X_prev @ np.linalg.inv(sigma_2*np.eye(n) + X_prev.T @ V_0 @ X_prev).T @ X_prev.T @ V_0.T\n",
    "        \n",
    "        C_mean = C_prev + (Y - C_prev @ X_prev) @ \\\n",
    "                    np.linalg.inv(sigma_2*np.eye(n) + X_prev.T @ V_0 @ X_prev).T @ X_prev.T @ V_0.T\n",
    "        \n",
    "        C = matrix_normal_sample(C_mean, np.eye(m), V)\n",
    "        \n",
    "        \n",
    "        W = W_0 - W_0 @ C.T @ np.linalg.inv(sigma_2*np.eye(m) + C @ W_0 @ C.T) @ C @ W_0\n",
    "        \n",
    "        X_mean = X_prev + W_0 @ C.T @ np.linalg.inv(sigma_2*np.eye(m) + C @ W_0 @ C.T) @ (Y - C @ X_prev)\n",
    "        \n",
    "        X = matrix_normal_sample(X_mean, W, np.eye(n))\n",
    "        \n",
    "        C_prev = C\n",
    "        X_prev = X\n",
    "        \n",
    "\n",
    "        if t >= burnin:\n",
    "            #Calculates the running average of C and X (to plot)\n",
    "            if t == burnin:\n",
    "                C_average = C\n",
    "                X_average = X\n",
    "                C_running_average.append(C_average)\n",
    "                X_running_average.append(X_average)\n",
    "                \n",
    "            else:\n",
    "                N = t - burnin + 1\n",
    "                C_average = (C / N) + (C_average * (N - 1) / N)\n",
    "                X_average = (X / N) + (X_average * (N - 1) / N)\n",
    "                C_running_average.append(C_average)\n",
    "                X_running_average.append(X_average)\n",
    "                \n",
    "            #Stores the samples at each stage after burnin\n",
    "            C_samples.append(C)\n",
    "            X_samples.append(X)\n",
    "            V_samples.append(V)\n",
    "            W_samples.append(W)\n",
    "                \n",
    "            \n",
    "\n",
    "    if return_running_average:\n",
    "        return C_average, X_average, C_running_average, X_running_average\n",
    "    \n",
    "    elif return_samples:\n",
    "        return C_average, X_average, C_samples, X_samples, V_samples, W_samples, C_0, X_0, V_0, W_0\n",
    "            \n",
    "    return C_average, X_average"
   ]
  },
  {
   "cell_type": "code",
   "execution_count": 5,
   "metadata": {},
   "outputs": [],
   "source": [
    "def calculate_running_average(Y):\n",
    "    result = []\n",
    "    result.append(Y[0])\n",
    "    Y_average = Y[0]\n",
    "    for i in range(1, len(Y)):\n",
    "        Y_average = (Y[i] / (i+1)) + (Y_average * (i) / (i+1))\n",
    "        result.append(Y_average)\n",
    "    return result"
   ]
  },
  {
   "cell_type": "code",
   "execution_count": 6,
   "metadata": {},
   "outputs": [
    {
     "data": {
      "text/plain": [
       "0.0595902263744006"
      ]
     },
     "execution_count": 6,
     "metadata": {},
     "output_type": "execute_result"
    }
   ],
   "source": [
    "m = 5\n",
    "r = 3\n",
    "n = 25\n",
    "burnin = 100\n",
    "T = 500\n",
    "sigma_2 = 1\n",
    "\n",
    "C = np.random.normal(0, 1, size=(m, r))\n",
    "X = np.random.normal(0, 1, size=(r, n))\n",
    "\n",
    "Y = C @ X\n",
    "#C_pred, X_pred, C_average, X_average = BGMF(Y, 1, r, T, burnin = burnin, return_running_average = True)\n",
    "C_pred, X_pred, C_samples, X_samples, V_samples, W_samples, C_0, X_0, V_0, W_0 \\\n",
    "                    = BGMF(Y, 1, r, T, sigma_2, burnin = burnin, return_samples = True)\n",
    "    \n",
    "C_average = calculate_running_average(C_samples)\n",
    "X_average = calculate_running_average(X_samples)\n",
    "\n",
    "Y_pred = C_pred @ X_pred\n",
    "#RUNNING PREDICITION CALCULATION\n",
    "Y_pred_running = [C @ X for C, X in zip(C_average, X_average)]\n",
    "nmse_running = [calculate_nmse(Y, Y_pred) for Y_pred in Y_pred_running]\n",
    "\n",
    "calculate_nmse(Y, Y_pred)"
   ]
  },
  {
   "cell_type": "code",
   "execution_count": 7,
   "metadata": {},
   "outputs": [
    {
     "data": {
      "text/plain": [
       "[<matplotlib.lines.Line2D at 0x1474dc19f70>]"
      ]
     },
     "execution_count": 7,
     "metadata": {},
     "output_type": "execute_result"
    },
    {
     "data": {
      "image/png": "[encoded data removed]",
      "text/plain": [
       "<Figure size 432x288 with 1 Axes>"
      ]
     },
     "metadata": {
      "needs_background": "light"
     },
     "output_type": "display_data"
    }
   ],
   "source": [
    "plt.plot(range(T-burnin), nmse_running)"
   ]
  },
  {
   "cell_type": "markdown",
   "metadata": {},
   "source": [
    "### Marginal Likelihood from BGMF for different values of r"
   ]
  },
  {
   "cell_type": "markdown",
   "metadata": {},
   "source": [
    "In BGMF, we implement Gibbs Sampling for complete conditionals which we derived:\n",
    "\n",
    "$$\n",
    "f(C|Y, X) = \\mathcal{N}(c;c_p, V \\otimes I_m) = \\mathcal{MN}(C;C_p, I_m, V), \n",
    "$$\n",
    "$$\n",
    "f(X|Y, C) = \\mathcal{N}(c;x_p, I_n \\otimes W) = \\mathcal{MN}(X;X_p, W, I_n), \n",
    "$$\n",
    "\n",
    "Using https://www.tandfonline.com/doi/pdf/10.1080/01621459.1995.10476635, the estimate of the marginal likelihood is:\n",
    "\n",
    "$$\n",
    "\\log p(Y) = \\log P(Y|C^*,X^*) + \\log p(X^*) + \\log p(C^*) - \\log p(C^*|X^*,Y) - \\log p(X^*|Y)\n",
    "$$\n",
    "\n",
    "\n",
    "where $C^*$ and $X^*$ are our selected points taken to be the average points of sampler output from our outputs of BGMF $\\{C^{(t)}, X^{(t)}\\}_{t=1}^T$.\n",
    "\n",
    "The last term can be estimated by:\n",
    "\n",
    "$$\n",
    "p(\\widehat{X^*|Y}) = \\frac{1}{T}\\sum_{i=1}^Tp(X^*|C^{(i)}, Y)\n",
    "$$\n",
    "\n",
    "Question on vec(A), do vec stack columns or rows (depends direction of how we define each data vector in Y?), so in our case stack rows?"
   ]
  },
  {
   "cell_type": "code",
   "execution_count": 8,
   "metadata": {},
   "outputs": [],
   "source": [
    "def evaluate_log_density(X, M, U, V):\n",
    "    #evaluates log pdf for X that follows MN(M, U, V)\n",
    "    n, p = X.shape\n",
    "    log_density = -0.5 * np.trace(np.linalg.solve(V, (X-M).T) @ np.linalg.solve(U, (X - M)))\n",
    "    log_density -= 0.5 * (n * p * np.log(2*np.pi) + n * np.log(np.linalg.det(V)) + p * np.log(np.linalg.det(U)))\n",
    "    return log_density"
   ]
  },
  {
   "cell_type": "code",
   "execution_count": 13,
   "metadata": {},
   "outputs": [],
   "source": [
    "def log_marginal_likelihood(C_samples, X_samples, V_samples, W_samples, Y, sigma_2, C_0, X_0, V_0, W_0):\n",
    "    \n",
    "    m, n = Y.shape\n",
    "    C_star = calculate_running_average(C_samples)[-1]\n",
    "    X_star = calculate_running_average(X_samples)[-1]\n",
    "    T = len(X_samples)\n",
    "    term1 = evaluate_log_density(Y, C_star@X_star, sigma_2*np.eye(m), sigma_2*np.eye(n))\n",
    "    term2 = evaluate_log_density(X_star, X_0, W_0, np.eye(n))\n",
    "    term3 = evaluate_log_density(C_star, C_0, np.eye(m), V_0)\n",
    "    \n",
    "    C_p = C_0 + (Y - C_0 @ X_star) @ np.linalg.inv((sigma_2*np.eye(n) + X_star.T @ V_0 @ X_star)).T @ X_star.T @ V_0.T\n",
    "    V_p = V_0 - V_0 @ X_star @ np.linalg.inv(sigma_2*np.eye(n) + X_star.T @ V_0 @ X_star).T @ X_star.T @ V_0.T\n",
    "    term4 = evaluate_log_density(C_star, C_p, np.eye(m), V_p)\n",
    "    \n",
    "    X_p_array = [X_0 + W_0 @ C_i.T @ np.linalg.inv(sigma_2*np.eye(m) + C_i @ W_0 @ C_i.T) @ (Y - C_i @ X_0) for C_i in C_samples]\n",
    "    #W_p = W_0 - W_0 @ C_star.T @ np.linalg.inv(sigma_2*np.eye(m) + C_star @ W_0 @ C_star.T) @ C_star @ W_0\n",
    "    W_p_array = [W_0 - W_0 @ C_i.T @ np.linalg.inv(sigma_2*np.eye(m) + C_i @ W_0 @ C_i.T) @ C_i @ W_0 for C_i in C_samples]\n",
    "    \n",
    "    #term5_log_array = [evaluate_log_density(X_star, X_p, W_p, np.eye(n)) for X_p in X_p_array]\n",
    "    term5_log_array = [evaluate_log_density(X_star, X_p, W_p, np.eye(n)) for X_p, W_p in zip(X_p_array, W_p_array)]\n",
    "    \n",
    "    term5 = logsumexp(term5_log_array) - np.log(T)\n",
    "    print(term1, term2, term3, term4, term5)\n",
    "    return term1 + term2 + term3 - term4 - term5\n",
    "    "
   ]
  },
  {
   "cell_type": "code",
   "execution_count": 14,
   "metadata": {},
   "outputs": [
    {
     "name": "stdout",
     "output_type": "stream",
     "text": [
      "-711.580376949659 -224785.52963371453 -104.9343604150629 341.99778088698173 -223262.07313408452\n"
     ]
    }
   ],
   "source": [
    "res = log_marginal_likelihood(C_samples, X_samples, V_samples, W_samples, Y, sigma_2, C_0, X_0, V_0, W_0)\n"
   ]
  },
  {
   "cell_type": "markdown",
   "metadata": {},
   "source": [
    "### Plot for different values of r"
   ]
  },
  {
   "cell_type": "code",
   "execution_count": 18,
   "metadata": {},
   "outputs": [
    {
     "name": "stdout",
     "output_type": "stream",
     "text": [
      "-2200.10383409262 -452430.87665167614 -25.075979767110134 75.60122581547638 -451056.1171262579\n",
      "-1371.0768559096632 -765022.401186329 -47.51174270132037 160.07854002391326 -762829.8964346412\n",
      "-1019.1632237325364 -1002898.9387925912 -64.68102772005838 240.65780877561042 -1000377.6048114522\n",
      "-800.796505692068 -1046991.4291483152 -81.27513108470671 293.96460805134774 -1044252.7656646032\n",
      "-714.32391717337 -1528528.236332183 -114.96781719635895 410.10560470992607 -1525751.9666847598\n",
      "-734.4577650028396 -1800595.2060375367 -128.80962092938054 470.41052620980764 -1797802.733824935\n",
      "-820.69242276713 -2030102.7238347393 -144.83698047871522 479.7260698855452 -2027354.3259776304\n",
      "-820.9258313494804 -1785464.6225893428 -168.03960117617936 538.1078387876953 -1782764.6998272385\n",
      "-786.942383519674 -2002547.983941348 -174.0062922756561 668.7574800209293 -1999854.632037861\n"
     ]
    },
    {
     "data": {
      "text/plain": [
       "<matplotlib.lines.Line2D at 0x1474ed3ee80>"
      ]
     },
     "execution_count": 18,
     "metadata": {},
     "output_type": "execute_result"
    },
    {
     "data": {
      "image/png": "[encoded data removed]",
      "text/plain": [
       "<Figure size 432x288 with 1 Axes>"
      ]
     },
     "metadata": {
      "needs_background": "light"
     },
     "output_type": "display_data"
    }
   ],
   "source": [
    "m = 15\n",
    "n = 50\n",
    "true_r = 5\n",
    "burnin = 10000\n",
    "T = 50000\n",
    "sigma_2 = 1\n",
    "r_vals = [i for i in range(1, 10)]\n",
    "log_likelihoods = []\n",
    "\n",
    "#Generate data\n",
    "C = np.random.normal(0, 1, size=(m, true_r))\n",
    "X = np.random.normal(0, 1, size=(true_r, n))\n",
    "Y = C @ X\n",
    "\n",
    "for r in r_vals:\n",
    "    C_pred, X_pred, C_samples, X_samples, V_samples, W_samples, C_0, X_0, V_0, W_0 \\\n",
    "                    = BGMF(Y, 1, r, T, sigma_2, burnin = burnin, return_samples = True)\n",
    "    log_likelihoods.append(log_marginal_likelihood(C_samples, X_samples, V_samples, W_samples, Y, sigma_2, C_0, X_0, V_0, W_0))\n",
    "    \n",
    "plt.plot(r_vals, log_likelihoods)\n",
    "plt.axvline(true_r, color='r')"
   ]
  },
  {
   "cell_type": "code",
   "execution_count": null,
   "metadata": {},
   "outputs": [],
   "source": []
  },
  {
   "cell_type": "code",
   "execution_count": null,
   "metadata": {},
   "outputs": [],
   "source": []
  }
 ],
 "metadata": {
  "kernelspec": {
   "display_name": "Python 3",
   "language": "python",
   "name": "python3"
  },
  "language_info": {
   "codemirror_mode": {
    "name": "ipython",
    "version": 3
   },
   "file_extension": ".py",
   "mimetype": "text/x-python",
   "name": "python",
   "nbconvert_exporter": "python",
   "pygments_lexer": "ipython3",
   "version": "3.8.5"
  }
 },
 "nbformat": 4,
 "nbformat_minor": 4
}
