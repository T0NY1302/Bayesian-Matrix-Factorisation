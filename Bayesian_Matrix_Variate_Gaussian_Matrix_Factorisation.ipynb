{
 "cells": [
  {
   "cell_type": "markdown",
   "metadata": {},
   "source": [
    "We will implement a Gibbs sampling algortihm to sample the factors from the conditional posterior distrubtions in the MVGMF algorithm to factorise our matrix. We will call this algortihm Bayesian Gaussian Matrix Factorisation (BGMF) for now."
   ]
  },
  {
   "cell_type": "code",
   "execution_count": 17,
   "metadata": {},
   "outputs": [],
   "source": [
    "import numpy as np\n",
    "import matplotlib.pyplot as plt\n",
    "from scipy.stats import multivariate_normal\n",
    "from scipy.special import logsumexp\n",
    "plt.style.use('seaborn-white')"
   ]
  },
  {
   "cell_type": "code",
   "execution_count": 18,
   "metadata": {},
   "outputs": [],
   "source": [
    "def calculate_nmse(Y, Y_pred):\n",
    "    numerator = np.linalg.norm(Y - Y_pred, 'fro') ** 2\n",
    "    denominator = np.linalg.norm(Y, 'fro') ** 2\n",
    "    nmse = numerator / denominator\n",
    "    return nmse"
   ]
  },
  {
   "cell_type": "code",
   "execution_count": 19,
   "metadata": {},
   "outputs": [],
   "source": [
    "def matrix_normal_sample(M, U, V):\n",
    "    #return np.random.multivariate_normal(M.ravel(), np.kron(V, U)).reshape(M.shape)\n",
    "    n, p = M.shape\n",
    "\n",
    "    # Generate samples from standard normal distribution\n",
    "    X = np.random.normal(0, 1, size=(n, p))\n",
    "\n",
    "    # Compute Cholesky decomposition of covariance matrices\n",
    "    chol_U = np.linalg.cholesky(U)\n",
    "    chol_V = np.linalg.cholesky(V)\n",
    "\n",
    "    # Sample from matrix normal distribution\n",
    "    Y = M + chol_U @ X @ chol_V.T\n",
    "\n",
    "    return Y"
   ]
  },
  {
   "cell_type": "code",
   "execution_count": 20,
   "metadata": {},
   "outputs": [],
   "source": [
    "def BGMF(Y, k, r, T, sigma_2, burnin = 100, return_running_average = False, return_samples=False):\n",
    "    \"\"\"\n",
    "    Perform Bayesian Gaussian Matrix Factorization (BGMF) using Gibbs sampling.\n",
    "\n",
    "    Parameters:\n",
    "    - Y (numpy.ndarray): The input matrix of shape (m, n) to be factorized.\n",
    "    - k (float): A constant for the variate matrix initialization.\n",
    "    - r (int): The dimensionality of the factorization.\n",
    "    - T (int): The number of Gibbs sampling iterations.\n",
    "    - burnin(int): Specifies burnin iterations.\n",
    "    - return_running_average (boolean): Returns running array average of C and X.\n",
    "    - return_samples (boolean): Returns array of samples of C and X at each iteration.\n",
    "\n",
    "    Returns:\n",
    "    - C (numpy.ndarray): The factor matrix C of shape (m, r).\n",
    "    - X (numpy.ndarray): The factor matrix X of shape (r, n).\n",
    "    \"\"\"\n",
    "    m, n = Y.shape\n",
    "    #Initialise the matrices\n",
    "    V_0 = k * np.eye(r)\n",
    "    W_0 = k * np.eye(r)\n",
    "    C_0 = np.random.normal(0, 1, size=(m, r))\n",
    "    X_0 = np.random.normal(0, 1, size=(r, n))\n",
    "    C_prev = C_0\n",
    "    X_prev = X_0\n",
    "\n",
    "    #Stores running average of C and X after burnin\n",
    "    C_samples = []\n",
    "    X_samples = []\n",
    "    V_samples = []\n",
    "    W_samples = []\n",
    "    C_running_average = []\n",
    "    X_running_average = []\n",
    "    C_average = np.zeros((m, r))\n",
    "    X_average = np.zeros((r, n))\n",
    "    C_mean_array = []\n",
    "    X_mean_array = []\n",
    "\n",
    "    for t in range(T):\n",
    "        \n",
    "        \n",
    "        #V = V_0 - V_0 @ X_prev @ np.linalg.inv(sigma_2*np.eye(n) + X_prev.T @ V_0 @ X_prev).T @ X_prev.T @ V_0.T\n",
    "        V = V_0 - V_0 @ X_prev @ np.linalg.inv(sigma_2*np.eye(n) + X_prev.T @ V_0 @ X_prev) @ X_prev.T @ V_0\n",
    "        \n",
    "        C_mean = C_prev + (Y - C_prev @ X_prev) @ \\\n",
    "                    np.linalg.inv(sigma_2*np.eye(n) + X_prev.T @ V_0 @ X_prev).T @ X_prev.T @ V_0.T\n",
    "        \n",
    "        C = matrix_normal_sample(C_mean, np.eye(m), V)\n",
    "        \n",
    "        W = W_0 - W_0 @ C.T @ np.linalg.inv(sigma_2*np.eye(m) + C @ W_0 @ C.T) @ C @ W_0\n",
    "        \n",
    "        X_mean = X_prev + W_0 @ C.T @ np.linalg.inv(sigma_2*np.eye(m) + C @ W_0 @ C.T) @ (Y - C @ X_prev)\n",
    "        \n",
    "        X = matrix_normal_sample(X_mean, W, np.eye(n))\n",
    "        \n",
    "        C_prev = C\n",
    "        X_prev = X\n",
    "        \n",
    "        if t >= burnin:\n",
    "            #Calculates the running average of C and X (to plot)\n",
    "            if t == burnin:\n",
    "                C_average = C\n",
    "                X_average = X\n",
    "                C_running_average.append(C_average)\n",
    "                X_running_average.append(X_average)\n",
    "                \n",
    "            else:\n",
    "                N = t - burnin + 1\n",
    "                C_average = (C / N) + (C_average * (N - 1) / N)\n",
    "                X_average = (X / N) + (X_average * (N - 1) / N)\n",
    "                C_running_average.append(C_average)\n",
    "                X_running_average.append(X_average)\n",
    "                \n",
    "            C_mean_array.append(C_mean)#debugging\n",
    "            X_mean_array.append(X_mean)\n",
    "                \n",
    "            #Stores the samples at each stage after burnin\n",
    "            C_samples.append(C)\n",
    "            X_samples.append(X)\n",
    "            V_samples.append(V)\n",
    "            W_samples.append(W)\n",
    "                \n",
    "            \n",
    "\n",
    "    if return_running_average:\n",
    "        return C_average, X_average, C_running_average, X_running_average\n",
    "    \n",
    "    elif return_samples:\n",
    "        return C_average, X_average, C_samples, X_samples, V_samples, W_samples, C_0, X_0, V_0, W_0, C_mean_array, X_mean_array\n",
    "            \n",
    "    return C_average, X_average"
   ]
  },
  {
   "cell_type": "code",
   "execution_count": 21,
   "metadata": {},
   "outputs": [],
   "source": [
    "def calculate_running_average(Y):\n",
    "    result = []\n",
    "    result.append(Y[0])\n",
    "    Y_average = Y[0]\n",
    "    for i in range(1, len(Y)):\n",
    "        Y_average = (Y[i] / (i+1)) + (Y_average * (i) / (i+1))\n",
    "        result.append(Y_average)\n",
    "    return result"
   ]
  },
  {
   "cell_type": "code",
   "execution_count": 22,
   "metadata": {},
   "outputs": [
    {
     "data": {
      "text/plain": [
       "1.741209444331306e-05"
      ]
     },
     "execution_count": 22,
     "metadata": {},
     "output_type": "execute_result"
    }
   ],
   "source": [
    "m = 15\n",
    "r = 5\n",
    "n = 25\n",
    "burnin = 0\n",
    "T = 1000\n",
    "sigma_2 = 1\n",
    "k = 0.001\n",
    "\n",
    "C = np.random.normal(10, 1, size=(m, r))\n",
    "X = np.random.normal(5, 1, size=(r, n))\n",
    "\n",
    "Y = C @ X + np.random.normal(0, np.sqrt(sigma_2), size=(m, n))\n",
    "#C_pred, X_pred, C_average, X_average = BGMF(Y, 1, r, T, burnin = burnin, return_running_average = True)\n",
    "C_pred, X_pred, C_samples, X_samples, V_samples, W_samples, C_0, X_0, V_0, W_0, C_mean_array, X_mean_array \\\n",
    "                    = BGMF(Y, k, r, T, sigma_2, burnin = burnin, return_samples = True)\n",
    "    \n",
    "C_average = calculate_running_average(C_samples)\n",
    "X_average = calculate_running_average(X_samples)\n",
    "\n",
    "Y_pred = C_pred @ X_pred\n",
    "#RUNNING PREDICITION CALCULATION\n",
    "Y_pred_running = [C @ X for C, X in zip(C_average, X_average)]\n",
    "nmse_running = [calculate_nmse(Y, Y_pred) for Y_pred in Y_pred_running]\n",
    "\n",
    "calculate_nmse(Y, Y_pred)"
   ]
  },
  {
   "cell_type": "code",
   "execution_count": 23,
   "metadata": {},
   "outputs": [
    {
     "data": {
      "text/plain": [
       "[<matplotlib.lines.Line2D at 0x24389dd6a30>]"
      ]
     },
     "execution_count": 23,
     "metadata": {},
     "output_type": "execute_result"
    },
    {
     "data": {
      "image/png": "[encoded data removed]",
      "text/plain": [
       "<Figure size 432x288 with 1 Axes>"
      ]
     },
     "metadata": {},
     "output_type": "display_data"
    }
   ],
   "source": [
    "plt.plot(range(T-burnin), nmse_running)"
   ]
  },
  {
   "cell_type": "code",
   "execution_count": 24,
   "metadata": {},
   "outputs": [
    {
     "data": {
      "text/plain": [
       "Text(0.5, 1.0, 'How C_2,2 varies')"
      ]
     },
     "execution_count": 24,
     "metadata": {},
     "output_type": "execute_result"
    },
    {
     "data": {
      "image/png": "[encoded data removed]",
      "text/plain": [
       "<Figure size 432x288 with 1 Axes>"
      ]
     },
     "metadata": {},
     "output_type": "display_data"
    }
   ],
   "source": [
    "n = len(C_mean_array)\n",
    "C_mean_array = np.array(C_mean_array)\n",
    "C_samples = np.array(C_samples)\n",
    "plt.plot(range(n), C_mean_array[:, 2, 2])\n",
    "#plt.axhline(y=C[1,1], color='r', linestyle='-')\n",
    "plt.title('How C_2,2 varies')\n"
   ]
  },
  {
   "cell_type": "code",
   "execution_count": 25,
   "metadata": {},
   "outputs": [
    {
     "data": {
      "text/plain": [
       "Text(0.5, 1.0, 'How X_2,2 varies')"
      ]
     },
     "execution_count": 25,
     "metadata": {},
     "output_type": "execute_result"
    },
    {
     "data": {
      "image/png": "[encoded data removed]",
      "text/plain": [
       "<Figure size 432x288 with 1 Axes>"
      ]
     },
     "metadata": {},
     "output_type": "display_data"
    }
   ],
   "source": [
    "n = len(X_mean_array)\n",
    "X_mean_array = np.array(X_mean_array)\n",
    "#print(X[2, 2])\n",
    "plt.plot(range(n), X_mean_array[:, 2, 2])\n",
    "#plt.axhline(y=X[1,1], color='r', linestyle='-')\n",
    "plt.title('How X_2,2 varies')"
   ]
  },
  {
   "cell_type": "code",
   "execution_count": 26,
   "metadata": {},
   "outputs": [
    {
     "name": "stdout",
     "output_type": "stream",
     "text": [
      "(1000, 15, 25)\n"
     ]
    },
    {
     "data": {
      "text/plain": [
       "Text(0.5, 1.0, 'How Average of reconsutrcted Y_2,2 varies')"
      ]
     },
     "execution_count": 26,
     "metadata": {},
     "output_type": "execute_result"
    },
    {
     "data": {
      "image/png": "[encoded data removed]",
      "text/plain": [
       "<Figure size 432x288 with 1 Axes>"
      ]
     },
     "metadata": {},
     "output_type": "display_data"
    }
   ],
   "source": [
    "Y_array = np.array([C @ X for C, X in zip(C_mean_array, X_mean_array)])\n",
    "print(Y_array.shape)\n",
    "plt.plot(range(n), Y_array[:, 2, 2])\n",
    "plt.title('How Average of reconsutrcted Y_2,2 varies')\n",
    "#no convergence??"
   ]
  },
  {
   "cell_type": "code",
   "execution_count": 27,
   "metadata": {},
   "outputs": [
    {
     "data": {
      "text/plain": [
       "Text(0.5, 1.0, 'How V_1,1 varies')"
      ]
     },
     "execution_count": 27,
     "metadata": {},
     "output_type": "execute_result"
    },
    {
     "data": {
      "image/png": "[encoded data removed]",
      "text/plain": [
       "<Figure size 432x288 with 1 Axes>"
      ]
     },
     "metadata": {},
     "output_type": "display_data"
    }
   ],
   "source": [
    "V_samples = np.array(V_samples)\n",
    "plt.plot(V_samples[:, 1, 1])\n",
    "plt.title('How V_1,1 varies')"
   ]
  },
  {
   "cell_type": "code",
   "execution_count": 28,
   "metadata": {},
   "outputs": [
    {
     "data": {
      "text/plain": [
       "Text(0.5, 1.0, 'How W_1,1 varies')"
      ]
     },
     "execution_count": 28,
     "metadata": {},
     "output_type": "execute_result"
    },
    {
     "data": {
      "image/png": "[encoded data removed]",
      "text/plain": [
       "<Figure size 432x288 with 1 Axes>"
      ]
     },
     "metadata": {},
     "output_type": "display_data"
    }
   ],
   "source": [
    "W_samples = np.array(W_samples)\n",
    "plt.plot(W_samples[:, 1, 1])\n",
    "plt.title('How W_1,1 varies')"
   ]
  },
  {
   "cell_type": "markdown",
   "metadata": {},
   "source": [
    "### Marginal Likelihood from BGMF for different values of r"
   ]
  },
  {
   "cell_type": "markdown",
   "metadata": {},
   "source": [
    "In BGMF, we implement Gibbs Sampling for complete conditionals which we derived:\n",
    "\n",
    "$$\n",
    "f(C|Y, X) = \\mathcal{N}(c;c_p, V \\otimes I_m) = \\mathcal{MN}(C;C_p, I_m, V), \n",
    "$$\n",
    "$$\n",
    "f(X|Y, C) = \\mathcal{N}(c;x_p, I_n \\otimes W) = \\mathcal{MN}(X;X_p, W, I_n), \n",
    "$$\n",
    "\n",
    "Using https://www.tandfonline.com/doi/pdf/10.1080/01621459.1995.10476635, the estimate of the marginal likelihood is:\n",
    "\n",
    "$$\n",
    "\\log p(Y) = \\log P(Y|C^*,X^*) + \\log p(X^*) + \\log p(C^*) - \\log p(C^*|X^*,Y) - \\log p(X^*|Y)\n",
    "$$\n",
    "\n",
    "\n",
    "where $C^*$ and $X^*$ are our selected points taken to be the average points of sampler output from our outputs of BGMF $\\{C^{(t)}, X^{(t)}\\}_{t=1}^T$.\n",
    "\n",
    "The last term can be estimated by:\n",
    "\n",
    "$$\n",
    "p(\\widehat{X^*|Y}) = \\frac{1}{T}\\sum_{i=1}^Tp(X^*|C^{(i)}, Y)\n",
    "$$\n",
    "\n"
   ]
  },
  {
   "cell_type": "code",
   "execution_count": 29,
   "metadata": {},
   "outputs": [],
   "source": [
    "def evaluate_log_density(X, M, U, V):\n",
    "    #evaluates log pdf for X that follows MN(M, U, V)\n",
    "    n, p = X.shape\n",
    "    log_density = -0.5 * np.trace(np.linalg.solve(V, (X-M).T) @ np.linalg.solve(U, (X - M)))\n",
    "    log_density -= 0.5 * (n * p * np.log(2*np.pi) + n * np.log(np.linalg.det(V)) + p * np.log(np.linalg.det(U)))\n",
    "    return log_density"
   ]
  },
  {
   "cell_type": "code",
   "execution_count": 30,
   "metadata": {},
   "outputs": [],
   "source": [
    "def log_marginal_likelihood(C_samples, X_samples, V_samples, W_samples, Y, sigma_2, C_0, X_0, V_0, W_0):\n",
    "    \n",
    "    m, n = Y.shape\n",
    "    C_star = calculate_running_average(C_samples)[-1]\n",
    "    X_star = calculate_running_average(X_samples)[-1]\n",
    "    T = len(X_samples)\n",
    "    term1 = evaluate_log_density(Y, C_star@X_star, sigma_2*np.eye(m), sigma_2*np.eye(n))\n",
    "    term2 = evaluate_log_density(X_star, X_0, W_0, np.eye(n))\n",
    "    term3 = evaluate_log_density(C_star, C_0, np.eye(m), V_0)\n",
    "    \n",
    "    C_p = C_0 + (Y - C_0 @ X_star) @ np.linalg.inv((sigma_2*np.eye(n) + X_star.T @ V_0 @ X_star)).T @ X_star.T @ V_0.T\n",
    "    V_p = V_0 - V_0 @ X_star @ np.linalg.inv(sigma_2*np.eye(n) + X_star.T @ V_0 @ X_star).T @ X_star.T @ V_0.T\n",
    "    term4 = evaluate_log_density(C_star, C_p, np.eye(m), V_p)\n",
    "    \n",
    "    X_p_array = [X_0 + W_0 @ C_i.T @ np.linalg.inv(sigma_2*np.eye(m) + C_i @ W_0 @ C_i.T) @ (Y - C_i @ X_0) for C_i in C_samples]\n",
    "    #W_p = W_0 - W_0 @ C_star.T @ np.linalg.inv(sigma_2*np.eye(m) + C_star @ W_0 @ C_star.T) @ C_star @ W_0\n",
    "    W_p_array = [W_0 - W_0 @ C_i.T @ np.linalg.inv(sigma_2*np.eye(m) + C_i @ W_0 @ C_i.T) @ C_i @ W_0 for C_i in C_samples]\n",
    "    \n",
    "    #term5_log_array = [evaluate_log_density(X_star, X_p, W_p, np.eye(n)) for X_p in X_p_array]\n",
    "    term5_log_array = [evaluate_log_density(X_star, X_p, W_p, np.eye(n)) for X_p, W_p in zip(X_p_array, W_p_array)]\n",
    "    \n",
    "    term5 = logsumexp(term5_log_array) - np.log(T)\n",
    "    print(term1, term2, term3, term4, term5)\n",
    "    return term1 + term2 + term3 - term4 - term5\n",
    "    "
   ]
  },
  {
   "cell_type": "code",
   "execution_count": 31,
   "metadata": {},
   "outputs": [
    {
     "name": "stdout",
     "output_type": "stream",
     "text": [
      "-548.9800520402742 -2457030.3368916097 -2251098.8449474145 -382551.44281444466 -137518.8231478363\n"
     ]
    }
   ],
   "source": [
    "res = log_marginal_likelihood(C_samples, X_samples, V_samples, W_samples, Y, sigma_2, C_0, X_0, V_0, W_0)\n"
   ]
  },
  {
   "cell_type": "markdown",
   "metadata": {},
   "source": [
    "### Plot for different values of r"
   ]
  },
  {
   "cell_type": "code",
   "execution_count": 36,
   "metadata": {},
   "outputs": [
    {
     "name": "stdout",
     "output_type": "stream",
     "text": [
      "-266.3714387557119 -6033.641957455859 -21506.074365175347 -158.03596059120224 39.11096474740203\n",
      "-221.33556041797056 -8627.686703871948 -99384.3239788487 -10072.987500218987 -6732.657651929607\n",
      "-176.18487964924776 -9330.844405546522 -159920.54774983085 -12670.623042047851 -8527.925897258616\n",
      "-796.5398122847455 -4408.407639714724 -168107.77677992304 -15703.27234655051 -3671.143772719091\n",
      "-3062.316339134497 -11062.73219014782 -174662.61092335553 -26801.124965852818 -11596.006318202231\n",
      "-1403.4373766093402 -9322.186048501677 -227603.76228626163 -101648.78961943967 -9620.519384290359\n",
      "-4917.941331027213 -17399.583204109345 -214866.0371385406 -68171.03152169043 -19497.730385569004\n",
      "-1813.675332652723 -22228.79854437487 -345516.03677731776 -89518.97955589369 -23320.71905575002\n",
      "-3177.2601946470127 -24954.05347063328 -281436.0382799399 -162544.5072187415 -26797.53934959583\n"
     ]
    },
    {
     "data": {
      "text/plain": [
       "<matplotlib.lines.Line2D at 0x24394ad6a00>"
      ]
     },
     "execution_count": 36,
     "metadata": {},
     "output_type": "execute_result"
    },
    {
     "data": {
      "image/png": "[encoded data removed]",
      "text/plain": [
       "<Figure size 432x288 with 1 Axes>"
      ]
     },
     "metadata": {},
     "output_type": "display_data"
    }
   ],
   "source": [
    "m = 7\n",
    "n = 13\n",
    "true_r = 5\n",
    "burnin = 500\n",
    "T = 5000\n",
    "k = 0.1\n",
    "sigma_2 = 1\n",
    "r_vals = [i for i in range(1, 10)]\n",
    "log_likelihoods = []\n",
    "\n",
    "#Generate data\n",
    "C = np.random.normal(10, 1, size=(m, true_r))\n",
    "X = np.random.normal(5, 1, size=(true_r, n))\n",
    "Y = C @ X\n",
    "\n",
    "for r in r_vals:\n",
    "    C_pred, X_pred, C_samples, X_samples, V_samples, W_samples, C_0, X_0, V_0, W_0, _, _ \\\n",
    "                    = BGMF(Y, k, r, T, sigma_2, burnin = burnin, return_samples = True)\n",
    "    \n",
    "    log_likelihoods.append(log_marginal_likelihood(C_samples, X_samples, V_samples, W_samples, Y, sigma_2, C_0, X_0, V_0, W_0))\n",
    "    \n",
    "plt.plot(r_vals, log_likelihoods)\n",
    "plt.axvline(true_r, color='r')"
   ]
  },
  {
   "cell_type": "code",
   "execution_count": null,
   "metadata": {},
   "outputs": [],
   "source": []
  },
  {
   "cell_type": "code",
   "execution_count": null,
   "metadata": {},
   "outputs": [],
   "source": []
  }
 ],
 "metadata": {
  "kernelspec": {
   "display_name": "Python 3",
   "language": "python",
   "name": "python3"
  },
  "language_info": {
   "codemirror_mode": {
    "name": "ipython",
    "version": 3
   },
   "file_extension": ".py",
   "mimetype": "text/x-python",
   "name": "python",
   "nbconvert_exporter": "python",
   "pygments_lexer": "ipython3",
   "version": "3.8.5"
  }
 },
 "nbformat": 4,
 "nbformat_minor": 4
}
