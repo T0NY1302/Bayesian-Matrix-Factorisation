{
 "cells": [
  {
   "cell_type": "markdown",
   "metadata": {},
   "source": [
    "We will implement a Gibbs sampling algortihm to sample the factors from the conditional posterior distrubtions in the MVGMF algorithm to factorise our matrix. We will call this algortihm Bayesian Gaussian Matrix Factorisation (BGMF) for now."
   ]
  },
  {
   "cell_type": "code",
   "execution_count": 17,
   "metadata": {},
   "outputs": [],
   "source": [
    "import numpy as np\n",
    "import matplotlib.pyplot as plt"
   ]
  },
  {
   "cell_type": "code",
   "execution_count": 18,
   "metadata": {},
   "outputs": [],
   "source": [
    "def calculate_nmse(Y, Y_pred):\n",
    "    numerator = np.linalg.norm(Y - Y_pred, 'fro') ** 2\n",
    "    denominator = np.linalg.norm(Y, 'fro') ** 2\n",
    "    nmse = numerator / denominator\n",
    "    return nmse"
   ]
  },
  {
   "cell_type": "code",
   "execution_count": 19,
   "metadata": {},
   "outputs": [],
   "source": [
    "def matrix_normal_sample(M, U, V):\n",
    "    return np.random.multivariate_normal(M.ravel(), np.kron(V, U)).reshape(M.shape)"
   ]
  },
  {
   "cell_type": "code",
   "execution_count": 31,
   "metadata": {},
   "outputs": [],
   "source": [
    "def BGMF(Y, k, r, T):\n",
    "    \"\"\"\n",
    "    Perform Bayesian Gaussian Matrix Factorization (BGMF) using Gibbs sampling.\n",
    "\n",
    "    Parameters:\n",
    "    - Y (numpy.ndarray): The input matrix of shape (m, n) to be factorized.\n",
    "    - k (float): A constant for the variate matrix initialization.\n",
    "    - r (int): The dimensionality of the factorization.\n",
    "    - T (int): The number of Gibbs sampling iterations.\n",
    "\n",
    "    Returns:\n",
    "    - C (numpy.ndarray): The factor matrix C of shape (m, r).\n",
    "    - X (numpy.ndarray): The factor matrix X of shape (r, n).\n",
    "    \"\"\"\n",
    "    m, n = Y.shape\n",
    "    sigma_2 = 1\n",
    "    #Initialise the matrices\n",
    "    V = k * np.eye(r)\n",
    "    W = k * np.eye(r)\n",
    "    C_prev = np.random.normal(0, 1, size=(m, r))\n",
    "    X_prev = np.random.normal(0, 1, size=(r, n))\n",
    "    \n",
    "    for t in range(T):\n",
    "        #Note is it ^T or ^-T?\n",
    "        C_mean = C_prev + (Y - C_prev @ X_prev) @ \\\n",
    "                    np.linalg.inv(sigma_2*np.eye(n) + X_prev.T@V@X_prev).T @ X_prev.T @ V.T\n",
    "        \n",
    "        C = matrix_normal_sample(C_mean, np.eye(m), V)\n",
    "        \n",
    "        X_mean = X_prev + W @ C.T @ np.linalg.inv(sigma_2*np.eye(m) + C @ W @ C.T) @ (Y - C @ X_prev)\n",
    "        \n",
    "        X = matrix_normal_sample(X_mean, W, np.eye(n))\n",
    "        \n",
    "        C_prev = C\n",
    "        X_prev = X\n",
    "        \n",
    "        V *= k\n",
    "        W *= k\n",
    "        \n",
    "    return C, X"
   ]
  },
  {
   "cell_type": "code",
   "execution_count": 66,
   "metadata": {},
   "outputs": [
    {
     "data": {
      "text/plain": [
       "0.15756254583080653"
      ]
     },
     "execution_count": 66,
     "metadata": {},
     "output_type": "execute_result"
    }
   ],
   "source": [
    "m = 25\n",
    "r = 3\n",
    "n = 5\n",
    "\n",
    "C = np.random.normal(0, 1, size=(m, r))\n",
    "X = np.random.normal(0, 1, size=(r, n))\n",
    "\n",
    "Y = C @ X\n",
    "\n",
    "C_pred, X_pred = BGMF(Y, 0.95, r, 500)\n",
    "Y_pred = C_pred @ X_pred\n",
    "\n",
    "calculate_nmse(Y, Y_pred)"
   ]
  },
  {
   "cell_type": "code",
   "execution_count": null,
   "metadata": {},
   "outputs": [],
   "source": []
  }
 ],
 "metadata": {
  "kernelspec": {
   "display_name": "Python 3",
   "language": "python",
   "name": "python3"
  },
  "language_info": {
   "codemirror_mode": {
    "name": "ipython",
    "version": 3
   },
   "file_extension": ".py",
   "mimetype": "text/x-python",
   "name": "python",
   "nbconvert_exporter": "python",
   "pygments_lexer": "ipython3",
   "version": "3.8.5"
  }
 },
 "nbformat": 4,
 "nbformat_minor": 4
}
