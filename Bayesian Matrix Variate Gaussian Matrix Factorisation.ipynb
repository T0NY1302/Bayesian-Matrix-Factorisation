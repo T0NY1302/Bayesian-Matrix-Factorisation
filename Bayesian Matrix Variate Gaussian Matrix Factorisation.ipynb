{
 "cells": [
  {
   "cell_type": "markdown",
   "metadata": {},
   "source": [
    "We will implement a Gibbs sampling algortihm to sample the factors from the conditional posterior distrubtions in the MVGMF algorithm to factorise our matrix. We will call this algortihm Bayesian Gaussian Matrix Factorisation (BGMF) for now."
   ]
  },
  {
   "cell_type": "code",
   "execution_count": 31,
   "metadata": {},
   "outputs": [],
   "source": [
    "import numpy as np\n",
    "import matplotlib.pyplot as plt"
   ]
  },
  {
   "cell_type": "code",
   "execution_count": 32,
   "metadata": {},
   "outputs": [],
   "source": [
    "def calculate_nmse(Y, Y_pred):\n",
    "    numerator = np.linalg.norm(Y - Y_pred, 'fro') ** 2\n",
    "    denominator = np.linalg.norm(Y, 'fro') ** 2\n",
    "    nmse = numerator / denominator\n",
    "    return nmse"
   ]
  },
  {
   "cell_type": "code",
   "execution_count": 33,
   "metadata": {},
   "outputs": [],
   "source": [
    "def matrix_normal_sample(M, U, V):\n",
    "    return np.random.multivariate_normal(M.ravel(), np.kron(V, U)).reshape(M.shape)"
   ]
  },
  {
   "cell_type": "code",
   "execution_count": 34,
   "metadata": {},
   "outputs": [],
   "source": [
    "def BGMF(Y, k, r, T, burnin = 100, return_running_average = False):\n",
    "    \"\"\"\n",
    "    Perform Bayesian Gaussian Matrix Factorization (BGMF) using Gibbs sampling.\n",
    "\n",
    "    Parameters:\n",
    "    - Y (numpy.ndarray): The input matrix of shape (m, n) to be factorized.\n",
    "    - k (float): A constant for the variate matrix initialization.\n",
    "    - r (int): The dimensionality of the factorization.\n",
    "    - T (int): The number of Gibbs sampling iterations.\n",
    "\n",
    "    Returns:\n",
    "    - C (numpy.ndarray): The factor matrix C of shape (m, r).\n",
    "    - X (numpy.ndarray): The factor matrix X of shape (r, n).\n",
    "    \"\"\"\n",
    "    m, n = Y.shape\n",
    "    sigma_2 = 1\n",
    "\n",
    "    #Initialise the matrices\n",
    "    V_0 = k * np.eye(r)\n",
    "    W_0 = k * np.eye(r)\n",
    "    C_prev = np.random.normal(0, 1, size=(m, r))\n",
    "    X_prev = np.random.normal(0, 1, size=(r, n))\n",
    "    C = np.zeros((m, r))\n",
    "    X_prev\n",
    "    \n",
    "    #Stores running average of C and X after burnin\n",
    "    C_running_average = []\n",
    "    X_running_average = []\n",
    "    C_average = np.zeros((m, r))\n",
    "    X_average = np.zeros((r, n))\n",
    "\n",
    "    for t in range(T):\n",
    "        \n",
    "        \n",
    "        V = V_0 - V_0@X_prev@np.linalg.inv(sigma_2*np.eye(n) + X_prev.T@V_0@X_prev).T @ X_prev.T @ V_0.T\n",
    "        \n",
    "        C_mean = C_prev + (Y - C_prev @ X_prev) @ \\\n",
    "                    np.linalg.inv(sigma_2*np.eye(n) + X_prev.T@V_0@X_prev).T @ X_prev.T @ V_0.T\n",
    "        \n",
    "        C = matrix_normal_sample(C_mean, np.eye(m), V)\n",
    "        \n",
    "        \n",
    "        \n",
    "        W = W_0 - W_0 @ C.T @ np.linalg.inv(sigma_2*np.eye(m) + C @ W_0 @ C.T) @ C @ W_0\n",
    "        \n",
    "        X_mean = X_prev + W_0 @ C.T @ np.linalg.inv(sigma_2*np.eye(m) + C @ W_0 @ C.T) @ (Y - C @ X_prev)\n",
    "        \n",
    "        X = matrix_normal_sample(X_mean, W, np.eye(n))\n",
    "        \n",
    "        C_prev = C\n",
    "        X_prev = X\n",
    "        \n",
    "\n",
    "        if t > burnin:\n",
    "\n",
    "            if t == burnin + 1:\n",
    "                C_average = C\n",
    "                X_average = X\n",
    "                C_running_average.append(C_average)\n",
    "                X_running_average.append(X_average)\n",
    "\n",
    "            N = t - burnin\n",
    "            C_average = (C / N) + (C_average * (N - 1) / N)\n",
    "            X_average = (X / N) + (X_average * (N - 1) / N)\n",
    "            C_running_average.append(C_average)\n",
    "            X_running_average.append(X_average)\n",
    "\n",
    "\n",
    "\n",
    "\n",
    "\n",
    "    if return_running_average:\n",
    "        return C_average, X_average, C_running_average, X_running_average\n",
    "            \n",
    "    return C_average, X_average"
   ]
  },
  {
   "cell_type": "code",
   "execution_count": 42,
   "metadata": {},
   "outputs": [
    {
     "data": {
      "text/plain": [
       "0.04737024102574913"
      ]
     },
     "execution_count": 42,
     "metadata": {},
     "output_type": "execute_result"
    }
   ],
   "source": [
    "m = 5\n",
    "r = 3\n",
    "n = 25\n",
    "\n",
    "C = np.random.normal(0, 1, size=(m, r))\n",
    "X = np.random.normal(0, 1, size=(r, n))\n",
    "\n",
    "Y = C @ X\n",
    "\n",
    "C_pred, X_pred, C_average, X_average = BGMF(Y, 2, r, 500, return_running_average = True)\n",
    "\n",
    "Y_pred = C_pred @ X_pred\n",
    "\n",
    "#RUNNING PREDICITION CALCULATION\n",
    "Y_pred_running = [C @ X for C, X in zip(C_average, X_average)]\n",
    "nmse_running = [calculate_nmse(Y, Y_pred) for Y_pred in Y_pred_running]\n",
    "\n",
    "calculate_nmse(Y, Y_pred)"
   ]
  },
  {
   "cell_type": "code",
   "execution_count": 43,
   "metadata": {},
   "outputs": [
    {
     "data": {
      "text/plain": [
       "[<matplotlib.lines.Line2D at 0x268a9c08d90>]"
      ]
     },
     "execution_count": 43,
     "metadata": {},
     "output_type": "execute_result"
    },
    {
     "data": {
      "image/png": "[encoded data removed]",
      "text/plain": [
       "<Figure size 432x288 with 1 Axes>"
      ]
     },
     "metadata": {
      "needs_background": "light"
     },
     "output_type": "display_data"
    }
   ],
   "source": [
    "plt.plot(range(400), nmse_running)"
   ]
  },
  {
   "cell_type": "code",
   "execution_count": null,
   "metadata": {},
   "outputs": [],
   "source": []
  },
  {
   "cell_type": "code",
   "execution_count": null,
   "metadata": {},
   "outputs": [],
   "source": []
  }
 ],
 "metadata": {
  "kernelspec": {
   "display_name": "Python 3",
   "language": "python",
   "name": "python3"
  },
  "language_info": {
   "codemirror_mode": {
    "name": "ipython",
    "version": 3
   },
   "file_extension": ".py",
   "mimetype": "text/x-python",
   "name": "python",
   "nbconvert_exporter": "python",
   "pygments_lexer": "ipython3",
   "version": "3.8.5"
  }
 },
 "nbformat": 4,
 "nbformat_minor": 4
}
